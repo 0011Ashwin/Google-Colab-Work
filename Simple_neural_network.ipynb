{
  "nbformat": 4,
  "nbformat_minor": 0,
  "metadata": {
    "colab": {
      "provenance": [],
      "authorship_tag": "ABX9TyOgs62x6fwV2oanBW/dDwVV",
      "include_colab_link": true
    },
    "kernelspec": {
      "name": "python3",
      "display_name": "Python 3"
    },
    "language_info": {
      "name": "python"
    }
  },
  "cells": [
    {
      "cell_type": "markdown",
      "metadata": {
        "id": "view-in-github",
        "colab_type": "text"
      },
      "source": [
        "<a href=\"https://colab.research.google.com/github/0011Ashwin/Google-Colab-Work/blob/main/Simple_neural_network.ipynb\" target=\"_parent\"><img src=\"https://colab.research.google.com/assets/colab-badge.svg\" alt=\"Open In Colab\"/></a>"
      ]
    },
    {
      "cell_type": "markdown",
      "source": [
        "# Simple-neural-network"
      ],
      "metadata": {
        "id": "yAbyln6OWPeK"
      }
    },
    {
      "cell_type": "code",
      "execution_count": null,
      "metadata": {
        "id": "l25wujOPUHnW"
      },
      "outputs": [],
      "source": [
        "import torch\n",
        "# import torch.nn -> nn stands for neural-network\n",
        "import torch.nn as nn\n",
        "# import torch.nn.functional as F -> helps us to forward our input to hidden layer to output layer\n",
        "import torch.nn.functional as F"
      ]
    },
    {
      "cell_type": "code",
      "source": [
        "# Create  a Model class that inherits as nn.Module\n",
        "class Model(nn.Module):\n",
        "  # Input layer of our model(feature of dataset) --> Hidden layer-1 (number of neurons)\n",
        "  def __init__(self, in_features = 4 , h1 = 8 , h2 = 9, out_features=3)\n"
      ],
      "metadata": {
        "id": "urEXrMXcXktd"
      },
      "execution_count": null,
      "outputs": []
    }
  ]
}